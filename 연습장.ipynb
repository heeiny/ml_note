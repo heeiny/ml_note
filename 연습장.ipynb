{
 "cells": [
  {
   "cell_type": "code",
   "execution_count": 1,
   "metadata": {},
   "outputs": [],
   "source": [
    "#pandas함수 불러오기\n",
    "import pandas as pd\n",
    "#numpy 불러오기\n",
    "import numpy as np\n"
   ]
  },
  {
   "cell_type": "code",
   "execution_count": 2,
   "metadata": {},
   "outputs": [
    {
     "name": "stdout",
     "output_type": "stream",
     "text": [
      "Requirement already satisfied: pykrx in c:\\users\\user\\appdata\\local\\programs\\python\\python39\\lib\\site-packages (1.0.37)\n",
      "Requirement already satisfied: xlrd in c:\\users\\user\\appdata\\local\\programs\\python\\python39\\lib\\site-packages (from pykrx) (2.0.1)\n",
      "Requirement already satisfied: requests in c:\\users\\user\\appdata\\local\\programs\\python\\python39\\lib\\site-packages (from pykrx) (2.27.1)\n",
      "Requirement already satisfied: numpy in c:\\users\\user\\appdata\\local\\programs\\python\\python39\\lib\\site-packages (from pykrx) (1.22.4)\n",
      "Requirement already satisfied: datetime in c:\\users\\user\\appdata\\local\\programs\\python\\python39\\lib\\site-packages (from pykrx) (4.5)\n",
      "Requirement already satisfied: pandas in c:\\users\\user\\appdata\\local\\programs\\python\\python39\\lib\\site-packages (from pykrx) (1.4.2)\n",
      "Requirement already satisfied: deprecated in c:\\users\\user\\appdata\\local\\programs\\python\\python39\\lib\\site-packages (from pykrx) (1.2.13)\n",
      "Requirement already satisfied: zope.interface in c:\\users\\user\\appdata\\local\\programs\\python\\python39\\lib\\site-packages (from datetime->pykrx) (5.4.0)\n",
      "Requirement already satisfied: pytz in c:\\users\\user\\appdata\\local\\programs\\python\\python39\\lib\\site-packages (from datetime->pykrx) (2022.1)\n",
      "Requirement already satisfied: wrapt<2,>=1.10 in c:\\users\\user\\appdata\\local\\programs\\python\\python39\\lib\\site-packages (from deprecated->pykrx) (1.14.1)\n",
      "Requirement already satisfied: python-dateutil>=2.8.1 in c:\\users\\user\\appdata\\local\\programs\\python\\python39\\lib\\site-packages (from pandas->pykrx) (2.8.2)\n",
      "Requirement already satisfied: idna<4,>=2.5 in c:\\users\\user\\appdata\\local\\programs\\python\\python39\\lib\\site-packages (from requests->pykrx) (3.3)\n",
      "Requirement already satisfied: charset-normalizer~=2.0.0 in c:\\users\\user\\appdata\\local\\programs\\python\\python39\\lib\\site-packages (from requests->pykrx) (2.0.12)\n",
      "Requirement already satisfied: certifi>=2017.4.17 in c:\\users\\user\\appdata\\local\\programs\\python\\python39\\lib\\site-packages (from requests->pykrx) (2022.5.18.1)\n",
      "Requirement already satisfied: urllib3<1.27,>=1.21.1 in c:\\users\\user\\appdata\\local\\programs\\python\\python39\\lib\\site-packages (from requests->pykrx) (1.26.9)\n",
      "Requirement already satisfied: six>=1.5 in c:\\users\\user\\appdata\\local\\programs\\python\\python39\\lib\\site-packages (from python-dateutil>=2.8.1->pandas->pykrx) (1.16.0)\n",
      "Requirement already satisfied: setuptools in c:\\users\\user\\appdata\\local\\programs\\python\\python39\\lib\\site-packages (from zope.interface->datetime->pykrx) (58.1.0)\n"
     ]
    }
   ],
   "source": [
    "!pip install pykrx"
   ]
  },
  {
   "cell_type": "code",
   "execution_count": 3,
   "metadata": {},
   "outputs": [
    {
     "ename": "NameError",
     "evalue": "name 'stockc' is not defined",
     "output_type": "error",
     "traceback": [
      "\u001b[1;31m---------------------------------------------------------------------------\u001b[0m",
      "\u001b[1;31mNameError\u001b[0m                                 Traceback (most recent call last)",
      "\u001b[1;32mc:\\Users\\user\\Desktop\\금융빅데이터\\연습장\\연습장.ipynb 셀 3\u001b[0m in \u001b[0;36m<cell line: 3>\u001b[1;34m()\u001b[0m\n\u001b[0;32m      <a href='vscode-notebook-cell:/c%3A/Users/user/Desktop/%EA%B8%88%EC%9C%B5%EB%B9%85%EB%8D%B0%EC%9D%B4%ED%84%B0/%EC%97%B0%EC%8A%B5%EC%9E%A5/%EC%97%B0%EC%8A%B5%EC%9E%A5.ipynb#ch0000008?line=0'>1</a>\u001b[0m \u001b[39m# krx데이터 가져오기\u001b[39;00m\n\u001b[0;32m      <a href='vscode-notebook-cell:/c%3A/Users/user/Desktop/%EA%B8%88%EC%9C%B5%EB%B9%85%EB%8D%B0%EC%9D%B4%ED%84%B0/%EC%97%B0%EC%8A%B5%EC%9E%A5/%EC%97%B0%EC%8A%B5%EC%9E%A5.ipynb#ch0000008?line=1'>2</a>\u001b[0m \u001b[39mfrom\u001b[39;00m \u001b[39mpykrx\u001b[39;00m \u001b[39mimport\u001b[39;00m stock\n\u001b[1;32m----> <a href='vscode-notebook-cell:/c%3A/Users/user/Desktop/%EA%B8%88%EC%9C%B5%EB%B9%85%EB%8D%B0%EC%9D%B4%ED%84%B0/%EC%97%B0%EC%8A%B5%EC%9E%A5/%EC%97%B0%EC%8A%B5%EC%9E%A5.ipynb#ch0000008?line=2'>3</a>\u001b[0m tickers \u001b[39m=\u001b[39m stockc\u001b[39m.\u001b[39mget_market_ticker_list(\u001b[39m\"\u001b[39m\u001b[39m20210701\u001b[39m\u001b[39m\"\u001b[39m)\n",
      "\u001b[1;31mNameError\u001b[0m: name 'stockc' is not defined"
     ]
    }
   ],
   "source": [
    "# krx데이터 가져오기\n",
    "from pykrx import stock\n",
    "tickers = stock.get_market_ticker_list(\"20210701\")"
   ]
  },
  {
   "cell_type": "code",
   "execution_count": null,
   "metadata": {},
   "outputs": [],
   "source": [
    "print(tickers)"
   ]
  }
 ],
 "metadata": {
  "kernelspec": {
   "display_name": "Python 3.9.13 64-bit",
   "language": "python",
   "name": "python3"
  },
  "language_info": {
   "codemirror_mode": {
    "name": "ipython",
    "version": 3
   },
   "file_extension": ".py",
   "mimetype": "text/x-python",
   "name": "python",
   "nbconvert_exporter": "python",
   "pygments_lexer": "ipython3",
   "version": "3.9.13"
  },
  "orig_nbformat": 4,
  "vscode": {
   "interpreter": {
    "hash": "82ed002fa2d4956f5c6aec99bcefe0f73a9f79882f3c9e2319b14958a5896ac5"
   }
  }
 },
 "nbformat": 4,
 "nbformat_minor": 2
}
