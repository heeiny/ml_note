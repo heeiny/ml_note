{
 "cells": [
  {
   "cell_type": "code",
   "execution_count": 1,
   "metadata": {},
   "outputs": [],
   "source": [
    "# 상장되어 있는 기업들의 정보 확인하기\n",
    "import datetime\n",
    "import pandas as pd\n",
    "import FinanceDataReader as fdr\n",
    "\n",
    "from pykrx import stock"
   ]
  },
  {
   "cell_type": "code",
   "execution_count": 2,
   "metadata": {},
   "outputs": [],
   "source": [
    "# 상장되어 있는 기업들의 정보 확인하기\n",
    "class KoreanMarketFactorData:\n",
    "    def __init__(self):\n",
    "        self.stock = stock\n",
    "        self.fdr_data = fdr.StockListing(\"KRX\")"
   ]
  },
  {
   "cell_type": "code",
   "execution_count": 3,
   "metadata": {},
   "outputs": [],
   "source": [
    "# 종목코드와 종목명 확인하기\n",
    "# get_market_ticker_list > 종목코드\n",
    "# get_market_ticker_name > 종목명 \n",
    "def __get_korean_stock_ticker_and_name(self,date,market):\n",
    "    stock_list = pd.DataFrame({'종목코드':self.stock.get_market_ticker_list(date,market=market)})\n",
    "    stock_list['종목명']=stock_list['종목코드'].map(lambda x:stock.get_market_ticker_name(x))"
   ]
  },
  {
   "cell_type": "code",
   "execution_count": 14,
   "metadata": {},
   "outputs": [],
   "source": [
    "# 종목의 업종 조회하기\n",
    "def __get_korean_stock_ticker_and_name(self,date,market):\n",
    "    stock_list = pd.DataFrame({'종목코드':self.stock.get_market_ticker_list(date,market=market)})\n",
    "    stock_list['종목명'] = stock_list[\"종목코드\"].map(lambda x:stock.get_market_ticker_name(x))\n",
    "    stock_list['업종'] = stock_list[\"종목명\"].map(lambda x:self.fdr_data[self.fdr_data[\"Name\"]==x][\"Sector\"].iloc[0])\n",
    "\n",
    "    return stock_list\n",
    "\n",
    "# stock_list가 가지고 있는 종목명과 fdr_data가 가지고 있는 이름이 일치하면 그 일치하는 행의 Sector컬럼의 값을 업종으로 가져온다. 여기서 종목코드가 아닌 종목이름으로 조회한 것은 FinanceDataReader의\n",
    "# 경우 종목코드 앞자리가 0으로 시작하는 경우에는 0이 누락되어있기 때문에 종목이름으로 조회함. "
   ]
  },
  {
   "cell_type": "code",
   "execution_count": null,
   "metadata": {},
   "outputs": [],
   "source": []
  }
 ],
 "metadata": {
  "kernelspec": {
   "display_name": "Python 3.9.13 64-bit",
   "language": "python",
   "name": "python3"
  },
  "language_info": {
   "codemirror_mode": {
    "name": "ipython",
    "version": 3
   },
   "file_extension": ".py",
   "mimetype": "text/x-python",
   "name": "python",
   "nbconvert_exporter": "python",
   "pygments_lexer": "ipython3",
   "version": "3.9.13"
  },
  "orig_nbformat": 4,
  "vscode": {
   "interpreter": {
    "hash": "82ed002fa2d4956f5c6aec99bcefe0f73a9f79882f3c9e2319b14958a5896ac5"
   }
  }
 },
 "nbformat": 4,
 "nbformat_minor": 2
}
