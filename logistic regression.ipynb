{
 "cells": [
  {
   "cell_type": "code",
   "execution_count": 1,
   "metadata": {},
   "outputs": [],
   "source": [
    "import numpy as np\n",
    "import pandas as pd\n",
    "import matplotlib.pyplot as plt"
   ]
  },
  {
   "cell_type": "code",
   "execution_count": 3,
   "metadata": {},
   "outputs": [
    {
     "data": {
      "text/plain": [
       "(-0.1, 1.1)"
      ]
     },
     "execution_count": 3,
     "metadata": {},
     "output_type": "execute_result"
    },
    {
     "data": {
      "image/png": "[encoded data removed]",
      "text/plain": [
       "<Figure size 432x288 with 1 Axes>"
      ]
     },
     "metadata": {
      "needs_background": "light"
     },
     "output_type": "display_data"
    }
   ],
   "source": [
    "# 공부시간 x와 성적 y의 리스트를 만든다.\n",
    "data = [[2,0], [4,0],[6,0],[8,1],[10,1],[12,1],[14,1]]\n",
    "\n",
    "x_data=[i[0] for i in data]\n",
    "y_data=[i[1] for i in data]\n",
    "\n",
    "# 그래프로 나타내 봅니다.\n",
    "plt.scatter(x_data,y_data)\n",
    "plt.xlim(0,15)\n",
    "plt.ylim(-.1,1.1)"
   ]
  },
  {
   "cell_type": "code",
   "execution_count": 5,
   "metadata": {},
   "outputs": [
    {
     "name": "stdout",
     "output_type": "stream",
     "text": [
      "epoch=%.f, 기울기=%.04f, 절편=%.04f % (i,a,b\n",
      "epoch=%.f, 기울기=%.04f, 절편=%.04f % (i,a,b\n",
      "epoch=%.f, 기울기=%.04f, 절편=%.04f % (i,a,b\n",
      "epoch=%.f, 기울기=%.04f, 절편=%.04f % (i,a,b\n",
      "epoch=%.f, 기울기=%.04f, 절편=%.04f % (i,a,b\n",
      "epoch=%.f, 기울기=%.04f, 절편=%.04f % (i,a,b\n",
      "epoch=%.f, 기울기=%.04f, 절편=%.04f % (i,a,b\n",
      "epoch=%.f, 기울기=%.04f, 절편=%.04f % (i,a,b\n",
      "epoch=%.f, 기울기=%.04f, 절편=%.04f % (i,a,b\n",
      "epoch=%.f, 기울기=%.04f, 절편=%.04f % (i,a,b\n",
      "epoch=%.f, 기울기=%.04f, 절편=%.04f % (i,a,b\n",
      "epoch=%.f, 기울기=%.04f, 절편=%.04f % (i,a,b\n",
      "epoch=%.f, 기울기=%.04f, 절편=%.04f % (i,a,b\n",
      "epoch=%.f, 기울기=%.04f, 절편=%.04f % (i,a,b\n",
      "epoch=%.f, 기울기=%.04f, 절편=%.04f % (i,a,b\n",
      "epoch=%.f, 기울기=%.04f, 절편=%.04f % (i,a,b\n",
      "epoch=%.f, 기울기=%.04f, 절편=%.04f % (i,a,b\n",
      "epoch=%.f, 기울기=%.04f, 절편=%.04f % (i,a,b\n",
      "epoch=%.f, 기울기=%.04f, 절편=%.04f % (i,a,b\n",
      "epoch=%.f, 기울기=%.04f, 절편=%.04f % (i,a,b\n",
      "epoch=%.f, 기울기=%.04f, 절편=%.04f % (i,a,b\n"
     ]
    }
   ],
   "source": [
    "# 기울기 a와 절편 b의 값을 초기화 한다.\n",
    "a = 0\n",
    "b = 0\n",
    "# 학습률을 정합니다\n",
    "lr = 0.05 \n",
    "# 시그모이드 함수를 정의합니다.\n",
    "def sigmoid(x):\n",
    "    return 1/(1+np.e ** (-x))\n",
    "# 경사하강법을 실행합니다.\n",
    "for i in range(2001):\n",
    "    for x_data,y_data in data:\n",
    "        a_diff = x_data*(sigmoid(a*x_data +b) - y_data)\n",
    "        b_diff = sigmoid(a*x_data+b)-y_data\n",
    "        a = a - lr* a_diff\n",
    "        b = b - lr* b_diff\n",
    "        if i % 1000 == 0:   # 1,000번 반복될 때마다 각 x_data값에 대한 현재의 a값,b값을 출력한다.\n",
    "            print(\"epoch=%.f, 기울기=%.04f, 절편=%.04f % (i,a,b\")"
   ]
  },
  {
   "cell_type": "code",
   "execution_count": null,
   "metadata": {},
   "outputs": [],
   "source": []
  }
 ],
 "metadata": {
  "kernelspec": {
   "display_name": "Python 3.9.13 64-bit",
   "language": "python",
   "name": "python3"
  },
  "language_info": {
   "codemirror_mode": {
    "name": "ipython",
    "version": 3
   },
   "file_extension": ".py",
   "mimetype": "text/x-python",
   "name": "python",
   "nbconvert_exporter": "python",
   "pygments_lexer": "ipython3",
   "version": "3.9.13"
  },
  "orig_nbformat": 4,
  "vscode": {
   "interpreter": {
    "hash": "82ed002fa2d4956f5c6aec99bcefe0f73a9f79882f3c9e2319b14958a5896ac5"
   }
  }
 },
 "nbformat": 4,
 "nbformat_minor": 2
}
